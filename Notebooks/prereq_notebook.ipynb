{
 "cells": [
  {
   "cell_type": "markdown",
   "id": "7b38480a",
   "metadata": {},
   "source": [
    "Hi! My name is Katheryn! I am very excited to learn SQL and am trying to hustle to find the time to practice python and git everyday! Currently I am trying to practice what we have learned to recommend a list of personal recommendations based on genre input."
   ]
  },
  {
   "cell_type": "code",
   "execution_count": null,
   "id": "12fdc6bb",
   "metadata": {},
   "outputs": [],
   "source": [
    "my_favorite_books = [\"A Court of Thorns and Roses\", \"Caraval\", \"The Night Circus\", \"The Hurricane WarS\", \"Mistborn\"]\n",
    "print(my_favorite_books)"
   ]
  }
 ],
 "metadata": {
  "kernelspec": {
   "display_name": "Python 3",
   "language": "python",
   "name": "python3"
  },
  "language_info": {
   "name": "python",
   "version": "3.13.4"
  }
 },
 "nbformat": 4,
 "nbformat_minor": 5
}
